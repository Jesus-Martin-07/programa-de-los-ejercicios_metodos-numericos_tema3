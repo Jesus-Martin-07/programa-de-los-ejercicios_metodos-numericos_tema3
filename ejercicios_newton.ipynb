{
 "cells": [
  {
   "cell_type": "code",
   "execution_count": 18,
   "id": "2afee22b",
   "metadata": {},
   "outputs": [],
   "source": [
    "import numpy as np\n",
    "\n",
    "from math import *"
   ]
  },
  {
   "cell_type": "markdown",
   "id": "a01e0e53",
   "metadata": {},
   "source": [
    "ejercicio 1"
   ]
  },
  {
   "cell_type": "code",
   "execution_count": 45,
   "id": "24827bb6",
   "metadata": {},
   "outputs": [],
   "source": [
    "\n",
    "def jacobiano(x):\n",
    "    J = np.array([[8*x[0]-20, 1/2*x[1]], \n",
    "                  \n",
    "                  [1/2*x[1]**2, -5,]])\n",
    "    \n",
    "    JInversa = np.linalg.inv(J)\n",
    "    return JInversa\n",
    "\n",
    "def Fx(x):\n",
    "    xk=np.array([4*x[0]**2-20*x[0]+1/4*x[1]**2+8,\n",
    "                 \n",
    "                 1/2*x[0]*x[1]**2+2*x[0]-5*x[1]+8])\n",
    "\n",
    "    return xk"
   ]
  },
  {
   "cell_type": "code",
   "execution_count": 46,
   "id": "fa0f6266",
   "metadata": {},
   "outputs": [],
   "source": [
    "x = np.array([0.1,0.1]) #vector de valores iniciales\n",
    "error = 1\n",
    "c=0"
   ]
  },
  {
   "cell_type": "code",
   "execution_count": 47,
   "id": "23955de6",
   "metadata": {},
   "outputs": [
    {
     "name": "stdout",
     "output_type": "stream",
     "text": [
      "Iteración: 1  Resultado  [0.41872505 1.64041873] error 0.9390399545719478\n",
      "Iteración: 2  Resultado  [0.49153376 1.89976046] error 0.1365128592161942\n",
      "Iteración: 3  Resultado  [0.49843679 1.97650382] error 0.03882783317918421\n",
      "Iteración: 4  Resultado  [0.49965555 1.99456852] error 0.009056948561335734\n"
     ]
    }
   ],
   "source": [
    "\n",
    "while error>0.01:\n",
    "    c+=1\n",
    "    r= jacobiano(x)\n",
    "    feval = Fx(x)\n",
    "    resultado =x- np.dot(r,feval)\n",
    "    \n",
    "    numerador = np.amax( abs((resultado - x)))\n",
    "    denominador = np.amax( abs(resultado))\n",
    "    error = numerador/denominador\n",
    "    x=resultado\n",
    "    \n",
    "    print(\"Iteración:\",c,\" Resultado \",resultado, \"error\", error)"
   ]
  },
  {
   "cell_type": "markdown",
   "id": "34ad1221",
   "metadata": {},
   "source": [
    "ejercicio 2"
   ]
  },
  {
   "cell_type": "code",
   "execution_count": 26,
   "id": "1fb756a4",
   "metadata": {},
   "outputs": [],
   "source": [
    "def jacobiano(x):\n",
    "    J = np.array([[3, x[2]*sin(x[1]*x[2]), x[1]*sin(x[1]*x[2])], \n",
    "                   \n",
    "                  [8, 1250*(x[1]+2), 0],\n",
    "                             \n",
    "                  [-x[1]*exp(-x[0]*x[1]), -x[0]*exp(-x[0]*x[1]), 20]])\n",
    "    \n",
    "    JInversa = np.linalg.inv(J)\n",
    "    return JInversa\n",
    "\n",
    "def Fx(x):\n",
    "    xk=np.array([3*x[0]-cos(x[1]*x[2])-1/2, \n",
    "                 \n",
    "                 4*x[0]**2-625*x[1]**2+2*x[1]-1, \n",
    "                 \n",
    "                 exp(-x[0]*x[1])+ 20*x[2] + 10*(pi-3)/3])\n",
    "\n",
    "    return xk"
   ]
  },
  {
   "cell_type": "code",
   "execution_count": 27,
   "id": "3941ba12",
   "metadata": {},
   "outputs": [],
   "source": [
    "x = np.array([0.1,0.1,-0.1]) #vector de valores iniciales\n",
    "error = 1\n",
    "c=0"
   ]
  },
  {
   "cell_type": "code",
   "execution_count": 28,
   "id": "ac84109d",
   "metadata": {},
   "outputs": [
    {
     "name": "stdout",
     "output_type": "stream",
     "text": [
      "Iteración: 1  Resultado  [ 0.49999248  0.10145145 -0.07111402] error:  0.79999699121982\n",
      "Iteración: 2  Resultado  [ 0.49999093  0.1038231  -0.07106943] error:  0.004743388731452542\n"
     ]
    }
   ],
   "source": [
    "while error>0.01:\n",
    "    c+=1\n",
    "    r= jacobiano(x)\n",
    "    feval = Fx(x)\n",
    "    resultado =x- np.dot(r,feval)\n",
    "    \n",
    "    numerador = np.amax( abs((resultado - x)))\n",
    "    denominador = np.amax( abs(resultado))\n",
    "    error = numerador/denominador\n",
    "    x=resultado\n",
    "    \n",
    "    print(\"Iteración:\",c,\" Resultado \",resultado, \"error: \", error)"
   ]
  },
  {
   "cell_type": "markdown",
   "id": "b2d41f84",
   "metadata": {},
   "source": [
    "ejercicio 3"
   ]
  },
  {
   "cell_type": "code",
   "execution_count": 36,
   "id": "c7a6f5d1",
   "metadata": {},
   "outputs": [],
   "source": [
    "def jacobiano(x):\n",
    "    J = np.array([[2*x[0], 1, 0], \n",
    "                   \n",
    "                  [1, -2*x[1], 0],\n",
    "                             \n",
    "                  [1, 1, 1]])\n",
    "    \n",
    "    JInversa = np.linalg.inv(J)\n",
    "    return JInversa\n",
    "\n",
    "def Fx(x):\n",
    "    xk=np.array([x[0]**2+x[1]-37, \n",
    "                 \n",
    "                 x[0]-x[1]**2-5, \n",
    "                 \n",
    "                x[0]+x[1]+x[2]-3])\n",
    "\n",
    "    return xk"
   ]
  },
  {
   "cell_type": "code",
   "execution_count": 37,
   "id": "9b439ea5",
   "metadata": {},
   "outputs": [],
   "source": [
    "x = np.array([0.1,0.1,-0.1]) #vector de valores iniciales\n",
    "error = 1\n",
    "c=0"
   ]
  },
  {
   "cell_type": "code",
   "execution_count": 38,
   "id": "b0ab27b3",
   "metadata": {},
   "outputs": [
    {
     "name": "stdout",
     "output_type": "stream",
     "text": [
      "Iteración: 1  Resultado  [ 11.91538462  34.62692308 -43.54230769] error:  0.9977033830933663\n",
      "Iteración: 2  Resultado  [  6.7827096   17.33920321 -21.12191281] error:  1.0614755908260967\n",
      "Iteración: 3  Resultado  [  5.47876486   8.68340745 -11.16217232] error:  0.8922761816670266\n",
      "Iteración: 4  Resultado  [ 5.71606289  4.3829354  -7.09899829] error:  0.6057857564892937\n",
      "Iteración: 5  Resultado  [ 5.89391092  2.29344398 -5.1873549 ] error:  0.35451696621484285\n",
      "Iteración: 6  Resultado  [ 5.97055766  1.35831592 -4.32887359] error:  0.1566232356743006\n",
      "Iteración: 7  Resultado  [ 5.99623096  1.04587344 -4.0421044 ] error:  0.052106478772182815\n",
      "Iteración: 8  Resultado  [ 5.99992047  1.00096801 -4.00088848] error:  0.007484337559319105\n"
     ]
    }
   ],
   "source": [
    "while error>0.01:\n",
    "    c+=1\n",
    "    r= jacobiano(x)\n",
    "    feval = Fx(x)\n",
    "    resultado =x- np.dot(r,feval)\n",
    "    \n",
    "    numerador = np.amax( abs((resultado - x)))\n",
    "    denominador = np.amax( abs(resultado))\n",
    "    error = numerador/denominador\n",
    "    x=resultado\n",
    "    \n",
    "    print(\"Iteración:\",c,\" Resultado \",resultado, \"error: \", error)"
   ]
  },
  {
   "cell_type": "code",
   "execution_count": null,
   "id": "e8693d57",
   "metadata": {},
   "outputs": [],
   "source": []
  }
 ],
 "metadata": {
  "kernelspec": {
   "display_name": "Python 3",
   "language": "python",
   "name": "python3"
  },
  "language_info": {
   "codemirror_mode": {
    "name": "ipython",
    "version": 3
   },
   "file_extension": ".py",
   "mimetype": "text/x-python",
   "name": "python",
   "nbconvert_exporter": "python",
   "pygments_lexer": "ipython3",
   "version": "3.9.4"
  }
 },
 "nbformat": 4,
 "nbformat_minor": 5
}
