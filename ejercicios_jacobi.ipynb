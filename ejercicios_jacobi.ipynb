{
 "cells": [
  {
   "cell_type": "markdown",
   "id": "boolean-tourist",
   "metadata": {},
   "source": [
    "## Método de Jacobi\n",
    "\n",
    "${x_i^k} = T*x_{k-1} + c$\n"
   ]
  },
  {
   "cell_type": "markdown",
   "id": "e58a68aa",
   "metadata": {},
   "source": [
    "ejercicio 1"
   ]
  },
  {
   "cell_type": "code",
   "execution_count": 16,
   "id": "running-airfare",
   "metadata": {},
   "outputs": [],
   "source": [
    "import numpy as np\n",
    "\n",
    "from math import *\n"
   ]
  },
  {
   "cell_type": "code",
   "execution_count": 59,
   "id": "median-transfer",
   "metadata": {},
   "outputs": [],
   "source": [
    "#Definimos la matriz T\n",
    "T = np.array([[0,1/3,-1/3],[-3/6,0,-2/6],[-3/7,-3/7,0]])\n",
    "c = np.array([1/3,0,4/7])\n",
    "x = np.array([0,0,0]) #vector de valores iniciales\n",
    "erroraceptado=0.01\n",
    "cm=0"
   ]
  },
  {
   "cell_type": "code",
   "execution_count": 60,
   "id": "mathematical-stand",
   "metadata": {},
   "outputs": [
    {
     "name": "stdout",
     "output_type": "stream",
     "text": [
      "[[ 0.          0.33333333 -0.33333333]\n",
      " [-0.5         0.         -0.33333333]\n",
      " [-0.42857143 -0.42857143  0.        ]] * [0 0 0] + [0.33333333 0.         0.57142857]\n",
      "\n",
      "iteracion:  1 resultado:  [0.33333333 0.         0.57142857] error:  1\n",
      "iteracion:  2 resultado:  [ 0.14285714 -0.35714286  0.42857143] error:  1.0\n",
      "iteracion:  3 resultado:  [ 0.07142857 -0.21428571  0.66326531] error:  0.8333333333333333\n",
      "iteracion:  4 resultado:  [ 0.04081633 -0.25680272  0.63265306] error:  0.35384615384615387\n",
      "iteracion:  5 resultado:  [ 0.03684807 -0.23129252  0.66399417] error:  0.06720430107526885\n",
      "iteracion:  6 resultado:  [ 0.03490444 -0.23975543  0.6547619 ] error:  0.047200878155872754\n",
      "iteracion:  7 resultado:  [ 0.03516089 -0.23570619  0.65922185] error:  0.014100185528757097\n"
     ]
    }
   ],
   "source": [
    "#print(\"matriz de: \", T.shape)\n",
    "print(T, \"*\", x, \"+\", c)\n",
    "print()\n",
    "#print(\"vector de: \", c.shape)\n",
    "#print(c)\n",
    "#error=1\n",
    "#print()\n",
    "error=1\n",
    "\n",
    "while error>0.01:\n",
    "    cm+=1\n",
    "    resultado=np.dot(T,x) + c\n",
    "    print(\"iteracion: \",cm, \"resultado: \", resultado, \"error: \", error)\n",
    "    numerador = np.amax( abs((resultado - x)))\n",
    "    denominador = np.amax( abs(resultado))\n",
    "    error = numerador/denominador\n",
    "    \n",
    "    x=resultado\n",
    "    \n",
    "\n"
   ]
  },
  {
   "cell_type": "markdown",
   "id": "e1aeb2ff",
   "metadata": {},
   "source": [
    "ejercicio 2"
   ]
  },
  {
   "cell_type": "code",
   "execution_count": 47,
   "id": "6f3d2f57",
   "metadata": {},
   "outputs": [],
   "source": [
    "#Definimos la matriz T\n",
    "T = np.array([[0,1/10,0],[1/10,0,2/10],[0,2/10,0]])\n",
    "c = np.array([9/10,7/10,6/10])\n",
    "x = np.array([0,0,0]) #vector de valores iniciales\n",
    "erroraceptado=0.01\n",
    "cm=0"
   ]
  },
  {
   "cell_type": "code",
   "execution_count": 48,
   "id": "28c51248",
   "metadata": {},
   "outputs": [
    {
     "name": "stdout",
     "output_type": "stream",
     "text": [
      "matriz de:  (3, 3)\n",
      "[[0.  0.1 0. ]\n",
      " [0.1 0.  0.2]\n",
      " [0.  0.2 0. ]]\n",
      "\n",
      "vector de:  (3,)\n",
      "[0.9 0.7 0.6]\n",
      "\n",
      "iteracion:  1 resultado:  [0.9 0.7 0.6] error:  1\n",
      "iteracion:  2 resultado:  [0.97 0.91 0.74] error:  1.0\n",
      "iteracion:  3 resultado:  [0.991 0.945 0.782] error:  0.21649484536082472\n",
      "iteracion:  4 resultado:  [0.9945 0.9555 0.789 ] error:  0.04238143289606462\n",
      "iteracion:  5 resultado:  [0.99555 0.95725 0.7911 ] error:  0.010558069381598858\n"
     ]
    }
   ],
   "source": [
    "print(\"matriz de: \", T.shape)\n",
    "print(T)\n",
    "print()\n",
    "print(\"vector de: \", c.shape)\n",
    "print(c)\n",
    "error=1\n",
    "print()\n",
    "error=1\n",
    "\n",
    "while error>0.01:\n",
    "    cm+=1\n",
    "    resultado=np.dot(T,x) + c\n",
    "    print(\"iteracion: \",cm, \"resultado: \", resultado, \"error: \", error)\n",
    "    numerador = np.amax( abs((resultado - x)))\n",
    "    denominador = np.amax( abs(resultado))\n",
    "    error = numerador/denominador\n",
    "    \n",
    "    x=resultado"
   ]
  },
  {
   "cell_type": "markdown",
   "id": "c2f8d1fb",
   "metadata": {},
   "source": [
    "ejercicio 3"
   ]
  },
  {
   "cell_type": "code",
   "execution_count": 49,
   "id": "68c67370",
   "metadata": {},
   "outputs": [],
   "source": [
    "#Definimos la matriz T\n",
    "T = np.array([[0, -5/10, 0, 0],[-5/10, 0, 4/10, 0],[0, 4/8, 0, 1/8], [0, 0, 1/5, 0]])\n",
    "c = np.array([3/5, 5/2, -11/8, -11/5])\n",
    "x = np.array([0,0,0,0]) #vector de valores iniciales\n",
    "erroraceptado=0.01\n",
    "cm=0"
   ]
  },
  {
   "cell_type": "code",
   "execution_count": 50,
   "id": "9c03a202",
   "metadata": {},
   "outputs": [
    {
     "name": "stdout",
     "output_type": "stream",
     "text": [
      "matriz de:  (4, 4)\n",
      "[[ 0.    -0.5    0.     0.   ]\n",
      " [-0.5    0.     0.4    0.   ]\n",
      " [ 0.     0.5    0.     0.125]\n",
      " [ 0.     0.     0.2    0.   ]]\n",
      "\n",
      "vector de:  (4,)\n",
      "[ 0.6    2.5   -1.375 -2.2  ]\n",
      "\n",
      "iteracion:  1 resultado:  [ 0.6    2.5   -1.375 -2.2  ] error:  1\n",
      "iteracion:  2 resultado:  [-0.65   1.65  -0.4   -2.475] error:  1.0\n",
      "iteracion:  3 resultado:  [-0.225     2.665    -0.859375 -2.28    ] error:  0.5050505050505051\n",
      "iteracion:  4 resultado:  [-0.7325    2.26875  -0.3275   -2.371875] error:  0.3808630393996248\n",
      "iteracion:  5 resultado:  [-0.534375    2.73525    -0.53710938 -2.2655    ] error:  0.22424242424242416\n",
      "iteracion:  6 resultado:  [-0.767625    2.55234375 -0.2905625  -2.30742188] error:  0.17055113792157936\n",
      "iteracion:  7 resultado:  [-0.67617187  2.7675875  -0.38725586 -2.2581125 ] error:  0.0965962656871748\n",
      "iteracion:  8 resultado:  [-0.78379375  2.68318359 -0.27347031 -2.27745117] error:  0.07777306047234278\n",
      "iteracion:  9 resultado:  [-0.7415918   2.78250875 -0.3180896  -2.25469406] error:  0.04240691808791732\n",
      "iteracion:  10 resultado:  [-0.79125437  2.74356006 -0.26558238 -2.26361792] error:  0.03569626016450081\n",
      "iteracion:  11 resultado:  [-0.77178003  2.78939423 -0.28617221 -2.25311648] error:  0.01913835151244631\n",
      "iteracion:  12 resultado:  [-0.79469712  2.77142113 -0.26194244 -2.25723444] error:  0.016431587624443446\n"
     ]
    }
   ],
   "source": [
    "print(\"matriz de: \", T.shape)\n",
    "print(T)\n",
    "print()\n",
    "print(\"vector de: \", c.shape)\n",
    "print(c)\n",
    "error=1\n",
    "print()\n",
    "while error>0.01:\n",
    "    cm+=1\n",
    "    resultado=np.dot(T,x) + c\n",
    "    print(\"iteracion: \",cm, \"resultado: \", resultado, \"error: \", error)\n",
    "    numerador = np.amax( abs((resultado - x)))\n",
    "    denominador = np.amax( abs(resultado))\n",
    "    error = numerador/denominador\n",
    "    \n",
    "    x=resultado"
   ]
  },
  {
   "cell_type": "markdown",
   "id": "2fd773bf",
   "metadata": {},
   "source": [
    "ejercicio 4"
   ]
  },
  {
   "cell_type": "code",
   "execution_count": 51,
   "id": "080f04e0",
   "metadata": {},
   "outputs": [],
   "source": [
    "#Definimos la matriz T\n",
    "T = np.array([[0, -1/4, 1/4, -1/4],[-1/4, 0, 1/4, 1/4],[1/5, 1/5, 0, -1/5], [-1/3, 1/3, -1/3, 0]])\n",
    "c = np.array([-1/2, -1/4, 0, 1/3])\n",
    "x = np.array([0,0,0,0]) #vector de valores iniciales\n",
    "erroraceptado=0.01\n",
    "cm=0"
   ]
  },
  {
   "cell_type": "code",
   "execution_count": 52,
   "id": "11600f1f",
   "metadata": {},
   "outputs": [
    {
     "name": "stdout",
     "output_type": "stream",
     "text": [
      "matriz de:  (4, 4)\n",
      "[[ 0.         -0.25        0.25       -0.25      ]\n",
      " [-0.25        0.          0.25        0.25      ]\n",
      " [ 0.2         0.2         0.         -0.2       ]\n",
      " [-0.33333333  0.33333333 -0.33333333  0.        ]]\n",
      "\n",
      "vector de:  (4,)\n",
      "[-0.5        -0.25        0.          0.33333333]\n",
      "\n",
      "iteracion:  1 resultado:  [-0.5        -0.25        0.          0.33333333] error:  1\n",
      "iteracion:  2 resultado:  [-0.52083333 -0.04166667 -0.21666667  0.41666667] error:  1.0\n",
      "iteracion:  3 resultado:  [-0.64791667 -0.06979167 -0.19583333  0.56527778] error:  0.416\n",
      "iteracion:  4 resultado:  [-0.67282986  0.00434028 -0.25659722  0.59131944] error:  0.22936763129689178\n",
      "iteracion:  5 resultado:  [-0.71306424  0.00188802 -0.25196181  0.64458912] error:  0.11017933169913562\n",
      "iteracion:  6 resultado:  [-0.72460974  0.02642289 -0.27115307  0.65563802] error:  0.07470529754296246\n",
      "iteracion:  7 resultado:  [-0.73830349  0.02727367 -0.27076497  0.6740619 ] error:  0.03385942205279923\n",
      "iteracion:  8 resultado:  [-0.74302514  0.0354001  -0.27701834  0.67878071] error:  0.024954339918395057\n",
      "iteracion:  9 resultado:  [-0.74779979  0.03619688 -0.27728115  0.68514786] error:  0.010936953941165426\n"
     ]
    }
   ],
   "source": [
    "print(\"matriz de: \", T.shape)\n",
    "print(T)\n",
    "print()\n",
    "print(\"vector de: \", c.shape)\n",
    "print(c)\n",
    "error=1\n",
    "print()\n",
    "error=1\n",
    "\n",
    "while error>0.01:\n",
    "    cm+=1\n",
    "    resultado=np.dot(T,x) + c\n",
    "    print(\"iteracion: \",cm, \"resultado: \", resultado, \"error: \", error)\n",
    "    numerador = np.amax( abs((resultado - x)))\n",
    "    denominador = np.amax( abs(resultado))\n",
    "    error = numerador/denominador\n",
    "    \n",
    "    x=resultado"
   ]
  },
  {
   "cell_type": "code",
   "execution_count": null,
   "id": "e8c254eb",
   "metadata": {},
   "outputs": [],
   "source": []
  }
 ],
 "metadata": {
  "kernelspec": {
   "display_name": "Python 3",
   "language": "python",
   "name": "python3"
  },
  "language_info": {
   "codemirror_mode": {
    "name": "ipython",
    "version": 3
   },
   "file_extension": ".py",
   "mimetype": "text/x-python",
   "name": "python",
   "nbconvert_exporter": "python",
   "pygments_lexer": "ipython3",
   "version": "3.9.4"
  }
 },
 "nbformat": 4,
 "nbformat_minor": 5
}
